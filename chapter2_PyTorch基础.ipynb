{
  "nbformat": 4,
  "nbformat_minor": 0,
  "metadata": {
    "colab": {
      "provenance": [],
      "gpuType": "T4",
      "authorship_tag": "ABX9TyOX4h2KrleWSCy7EKGw5VjO",
      "include_colab_link": true
    },
    "kernelspec": {
      "name": "python3",
      "display_name": "Python 3"
    },
    "language_info": {
      "name": "python"
    },
    "accelerator": "GPU"
  },
  "cells": [
    {
      "cell_type": "markdown",
      "metadata": {
        "id": "view-in-github",
        "colab_type": "text"
      },
      "source": [
        "<a href=\"https://colab.research.google.com/github/shyandsy/ModernComputerVisionWithPyTorch/blob/main/chapter2_PyTorch%E5%9F%BA%E7%A1%80.ipynb\" target=\"_parent\"><img src=\"https://colab.research.google.com/assets/colab-badge.svg\" alt=\"Open In Colab\"/></a>"
      ]
    },
    {
      "cell_type": "markdown",
      "source": [
        "# Chapter 2: pytorch张量"
      ],
      "metadata": {
        "id": "T4KfFhf376AO"
      }
    },
    {
      "cell_type": "markdown",
      "source": [
        "## 1. 初始化张量, shape, dtype"
      ],
      "metadata": {
        "id": "WVh7KqDz7-_d"
      }
    },
    {
      "cell_type": "code",
      "execution_count": null,
      "metadata": {
        "colab": {
          "base_uri": "https://localhost:8080/"
        },
        "id": "QReL__jO7klp",
        "outputId": "7b7b03b6-84e6-4529-e92c-1d1716ce6cc3"
      },
      "outputs": [
        {
          "output_type": "stream",
          "name": "stdout",
          "text": [
            "x = tensor([[1, 2]])\n",
            "x.shape = torch.Size([1, 2])\n",
            "y = tensor([[1],\n",
            "        [2]])\n",
            "y.shape = torch.Size([2, 1])\n",
            "x.dtype = torch.int64\n",
            "[False, 0, 2.0] = tensor([0., 0., 2.])\n",
            "3行4列填充0: tensor([[0., 0., 0., 0.],\n",
            "        [0., 0., 0., 0.],\n",
            "        [0., 0., 0., 0.]])\n",
            "3行4列填充1: tensor([[1., 1., 1., 1.],\n",
            "        [1., 1., 1., 1.],\n",
            "        [1., 1., 1., 1.]])\n",
            "3行4列填充1: tensor([[7, 1, 0, 6],\n",
            "        [5, 3, 5, 6],\n",
            "        [6, 7, 0, 3]])\n",
            "3行4列填充1: tensor([[0.9841, 0.2100, 0.4480, 0.7866],\n",
            "        [0.0461, 0.7143, 0.3726, 0.8889],\n",
            "        [0.9266, 0.1530, 0.0214, 0.2776]])\n",
            "3行4列填充1: tensor([[-0.0277,  2.1807,  0.5854, -0.3137],\n",
            "        [ 0.3198, -0.1915,  1.6475, -0.3835],\n",
            "        [ 1.5440,  0.6145, -0.5033, -1.9865]])\n",
            "x = [[10 20 30]\n",
            " [ 2  3  4]]\n",
            "y = tensor([[10, 20, 30],\n",
            "        [ 2,  3,  4]])\n",
            "x.dtype: int64\n",
            "y.dtype: torch.int64\n"
          ]
        }
      ],
      "source": [
        "import torch\n",
        "import numpy as np\n",
        "\n",
        "# 初始化张量\n",
        "x = torch.tensor([\n",
        "    [1,2]\n",
        "])\n",
        "y = torch.tensor([\n",
        "    [1],\n",
        "     [2]\n",
        "])\n",
        "print(f'x = {x}')\n",
        "print(f'x.shape = {x.shape}')\n",
        "print(f'y = {y}')\n",
        "print(f'y.shape = {y.shape}')\n",
        "print(f'x.dtype = {x.dtype}')\n",
        "\n",
        "x = torch.tensor([False, 0, 2.0])\n",
        "print(f'[False, 0, 2.0] = {x}')\n",
        "\n",
        "# 3行4列填充0\n",
        "print(f'3行4列填充0: {torch.zeros((3,4))}')\n",
        "# 3行4列填充1\n",
        "print(f'3行4列填充1: {torch.ones((3,4))}')\n",
        "# 3行4列随机填充[0,10)\n",
        "print(f'3行4列填充1: {torch.randint(low=0, high=10, size=(3,4))}')\n",
        "# 3行4列随机填充[0,1)\n",
        "print(f'3行4列填充1: {torch.rand((3,4))}')\n",
        "# 3行4列正态分布填充[0,1)\n",
        "print(f'3行4列填充1: {torch.randn((3,4))}')\n",
        "\n",
        "# numpy to pytorch tensor\n",
        "x = np.array([\n",
        "    [10, 20, 30],\n",
        "    [2, 3, 4],\n",
        "])\n",
        "y = torch.tensor(x)\n",
        "print(f'x = {x}')\n",
        "print(f'y = {y}')\n",
        "print(f'x.dtype: {x.dtype}')\n",
        "print(f'y.dtype: {y.dtype}')\n"
      ]
    },
    {
      "cell_type": "markdown",
      "source": [
        "## 2. 张量运算"
      ],
      "metadata": {
        "id": "97kkCmjX74ZE"
      }
    },
    {
      "cell_type": "markdown",
      "source": [],
      "metadata": {
        "id": "-8ShZUUe-0f9"
      }
    },
    {
      "cell_type": "code",
      "source": [
        "import torch\n",
        "\n",
        "x = torch.tensor([\n",
        "    [1,2,3,4],\n",
        "    [5,6,7,8]\n",
        "])\n",
        "\n",
        "# 矩阵每个元素乘10\n",
        "print(\"tensor运算\")\n",
        "print(f'矩阵 x = {x}')\n",
        "print(f'x每个元素 * 10: {x * 10}')\n",
        "print(f'x每个元素 + 10: {x + 10}')\n",
        "print()\n",
        "\n",
        "# 重塑一个张量: view 改变形状\n",
        "print(\"重塑view: 改变形状\")\n",
        "y = torch.tensor([2,3,1,0])\n",
        "print(f'矩阵 y = {y}, shape = y.shape')\n",
        "y = y.view(4,1)\n",
        "print(f'y.view(4,1)之后: \\n矩阵 y = {y}, shape = y.shape')\n",
        "print()\n",
        "\n",
        "# 重塑一个张量: squeeze, 移除指定轴，适用于要删除的轴只有一个项的场合\n",
        "print(\"重塑squeeze: 移除指定轴，适用于要删除的轴只有一个项的场合\")\n",
        "x = torch.rand(3,1,5) # 3*1*5矩阵\n",
        "z1 = torch.squeeze(x, 1)\n",
        "z2 = x.squeeze(1)\n",
        "assert torch.all(z1==z2)\n",
        "print(f'Squeeze: \\n x.shape = {x.shape}, z1.shape = {z1.shape}, z2.shape = {z2.shape}')\n",
        "print(f'Squeeze: \\n x = {x} \\nz1 = {z1}, \\nz2 = {z2}')\n",
        "print()\n",
        "\n",
        "# 重塑一个张量: unsqueeze, 增加一个维度\n",
        "print(\"重塑unsqueeze: 增加一个维度\")\n",
        "x = torch.randn(4,3) # 4*3矩阵\n",
        "print(f'x.shape = {x.shape}')\n",
        "print(f'x = {x}')\n",
        "z1 = x.unsqueeze(0)\n",
        "print(f'z1.shape = {z1.shape}')\n",
        "print(f'z1 = {z1}')\n",
        "print()\n",
        "\n",
        "print(\"重塑: None索引在指定列增加一个维度\")\n",
        "x = torch.randn(4,3) # 4*3矩阵\n",
        "print(f'x = {x}')\n",
        "z2,z3,z4 = x[None], x[:,None], x[:,:,None]\n",
        "print(f'x[None] = {z2.shape}\\nx[None]={z2}')\n",
        "print(f'x[:None] = {z3.shape}\\nx[:None]={z3}')\n",
        "print(f'x[:,:,None] = {z4.shape}\\nx[:,:,None]={z4}')\n",
        "print()\n",
        "\n",
        "print(\"张量的矩阵乘法\")\n",
        "x = torch.tensor([\n",
        "    [1,2,3,],\n",
        "    [4,5,6,]\n",
        "])\n",
        "y = torch.tensor([\n",
        "    [1],\n",
        "    [2],\n",
        "    [3]\n",
        "])\n",
        "print(f'x={x}\\ny={y}\\nx*y={torch.matmul(x,y)}')\n",
        "print(f'@实现矩阵乘法 x@y = {x@y}')\n",
        "print()\n",
        "\n",
        "print(\"实现张量连接: torch.cat\")\n",
        "x = torch.randn(1,2,3)\n",
        "print(f'x={x}')\n",
        "print(f'x.shape={x.shape}')\n",
        "z = torch.cat([x, x], axis=0)  # np.concatenate()\n",
        "print(f'cat axis = 0: z.shape={z.shape}')\n",
        "print(f'cat axis = 0: z={z}')\n",
        "z = torch.cat([x, x], axis=1)  # np.concatenate()\n",
        "print(f'cat axis = 1: z.shape={z.shape}')\n",
        "print(f'cat axis = 1: z={z}')\n",
        "z = torch.cat([x, x], axis=2)  # np.concatenate()\n",
        "print(f'cat axis = 2: z.shape={z.shape}')\n",
        "print(f'cat axis = 2: z={z}')\n",
        "print()\n",
        "\n",
        "print(\"张量最大值: max (min和max用法相同)\")\n",
        "x = torch.arange(25).reshape(5,5) # [0,25), 5*5矩阵\n",
        "x = torch.randint(low=0, high=25, size=(5,5)) # [0,25), 5*5矩阵\n",
        "print(f'x={x}')\n",
        "print(f'x.shape = {x.shape}')\n",
        "print(f'max = {x.max()}')\n",
        "print(f'列最大值的行索引: x.max(dim=0) = {x.max(dim=0)}')\n",
        "print(f'行最大值的列索引: x.max(dim=1) = {x.max(dim=1)}')\n",
        "print()\n",
        "\n",
        "print(\"置换张量对象的维数\")\n",
        "x = torch.randn(2,3,4)\n",
        "print(f'x={x}')\n",
        "print(f'x.shape = {x.shape}')\n",
        "z = x.permute(2,0,1)\n",
        "print(f'z={z}')\n",
        "print(f'z.shape = {z.shape}')\n",
        "print()"
      ],
      "metadata": {
        "colab": {
          "base_uri": "https://localhost:8080/"
        },
        "id": "8jfWmYWe7z_k",
        "outputId": "3072359f-5f3c-454f-ad4c-d787db618a08"
      },
      "execution_count": null,
      "outputs": [
        {
          "output_type": "stream",
          "name": "stdout",
          "text": [
            "tensor运算\n",
            "矩阵 x = tensor([[1, 2, 3, 4],\n",
            "        [5, 6, 7, 8]])\n",
            "x每个元素 * 10: tensor([[10, 20, 30, 40],\n",
            "        [50, 60, 70, 80]])\n",
            "x每个元素 + 10: tensor([[11, 12, 13, 14],\n",
            "        [15, 16, 17, 18]])\n",
            "\n",
            "重塑view: 改变形状\n",
            "矩阵 y = tensor([2, 3, 1, 0]), shape = y.shape\n",
            "y.view(4,1)之后: \n",
            "矩阵 y = tensor([[2],\n",
            "        [3],\n",
            "        [1],\n",
            "        [0]]), shape = y.shape\n",
            "\n",
            "重塑squeeze: 移除指定轴，适用于要删除的轴只有一个项的场合\n",
            "Squeeze: \n",
            " x.shape = torch.Size([3, 1, 5]), z1.shape = torch.Size([3, 5]), z2.shape = torch.Size([3, 5])\n",
            "Squeeze: \n",
            " x = tensor([[[0.5411, 0.0845, 0.1221, 0.4586, 0.0399]],\n",
            "\n",
            "        [[0.0126, 0.9811, 0.8906, 0.6897, 0.2380]],\n",
            "\n",
            "        [[0.3215, 0.8552, 0.4761, 0.3062, 0.1953]]]) \n",
            "z1 = tensor([[0.5411, 0.0845, 0.1221, 0.4586, 0.0399],\n",
            "        [0.0126, 0.9811, 0.8906, 0.6897, 0.2380],\n",
            "        [0.3215, 0.8552, 0.4761, 0.3062, 0.1953]]), \n",
            "z2 = tensor([[0.5411, 0.0845, 0.1221, 0.4586, 0.0399],\n",
            "        [0.0126, 0.9811, 0.8906, 0.6897, 0.2380],\n",
            "        [0.3215, 0.8552, 0.4761, 0.3062, 0.1953]])\n",
            "\n",
            "重塑unsqueeze: 增加一个维度\n",
            "x.shape = torch.Size([4, 3])\n",
            "x = tensor([[-0.7912, -0.2481, -3.2967],\n",
            "        [-1.6989,  0.2524,  0.0413],\n",
            "        [ 2.2492, -0.5664, -1.1426],\n",
            "        [ 1.2314,  1.6905,  0.9041]])\n",
            "z1.shape = torch.Size([1, 4, 3])\n",
            "z1 = tensor([[[-0.7912, -0.2481, -3.2967],\n",
            "         [-1.6989,  0.2524,  0.0413],\n",
            "         [ 2.2492, -0.5664, -1.1426],\n",
            "         [ 1.2314,  1.6905,  0.9041]]])\n",
            "\n",
            "重塑: None索引在指定列增加一个维度\n",
            "x = tensor([[-0.7009,  0.3269,  1.7148],\n",
            "        [-1.4521, -0.4059,  1.1830],\n",
            "        [ 0.0222, -0.9929,  0.7550],\n",
            "        [ 0.6069,  0.5425, -0.7434]])\n",
            "x[None] = torch.Size([1, 4, 3])\n",
            "x[None]=tensor([[[-0.7009,  0.3269,  1.7148],\n",
            "         [-1.4521, -0.4059,  1.1830],\n",
            "         [ 0.0222, -0.9929,  0.7550],\n",
            "         [ 0.6069,  0.5425, -0.7434]]])\n",
            "x[:None] = torch.Size([4, 1, 3])\n",
            "x[:None]=tensor([[[-0.7009,  0.3269,  1.7148]],\n",
            "\n",
            "        [[-1.4521, -0.4059,  1.1830]],\n",
            "\n",
            "        [[ 0.0222, -0.9929,  0.7550]],\n",
            "\n",
            "        [[ 0.6069,  0.5425, -0.7434]]])\n",
            "x[:,:,None] = torch.Size([4, 3, 1])\n",
            "x[:,:,None]=tensor([[[-0.7009],\n",
            "         [ 0.3269],\n",
            "         [ 1.7148]],\n",
            "\n",
            "        [[-1.4521],\n",
            "         [-0.4059],\n",
            "         [ 1.1830]],\n",
            "\n",
            "        [[ 0.0222],\n",
            "         [-0.9929],\n",
            "         [ 0.7550]],\n",
            "\n",
            "        [[ 0.6069],\n",
            "         [ 0.5425],\n",
            "         [-0.7434]]])\n",
            "\n",
            "张量的矩阵乘法\n",
            "x=tensor([[1, 2, 3],\n",
            "        [4, 5, 6]])\n",
            "y=tensor([[1],\n",
            "        [2],\n",
            "        [3]])\n",
            "x*y=tensor([[14],\n",
            "        [32]])\n",
            "@实现矩阵乘法 x@y = tensor([[14],\n",
            "        [32]])\n",
            "\n",
            "实现张量连接: torch.cat\n",
            "x=tensor([[[ 0.4966,  0.6256,  0.8288],\n",
            "         [-1.2866, -1.1378,  0.4568]]])\n",
            "x.shape=torch.Size([1, 2, 3])\n",
            "cat axis = 0: z.shape=torch.Size([2, 2, 3])\n",
            "cat axis = 0: z=tensor([[[ 0.4966,  0.6256,  0.8288],\n",
            "         [-1.2866, -1.1378,  0.4568]],\n",
            "\n",
            "        [[ 0.4966,  0.6256,  0.8288],\n",
            "         [-1.2866, -1.1378,  0.4568]]])\n",
            "cat axis = 1: z.shape=torch.Size([1, 4, 3])\n",
            "cat axis = 1: z=tensor([[[ 0.4966,  0.6256,  0.8288],\n",
            "         [-1.2866, -1.1378,  0.4568],\n",
            "         [ 0.4966,  0.6256,  0.8288],\n",
            "         [-1.2866, -1.1378,  0.4568]]])\n",
            "cat axis = 2: z.shape=torch.Size([1, 2, 6])\n",
            "cat axis = 2: z=tensor([[[ 0.4966,  0.6256,  0.8288,  0.4966,  0.6256,  0.8288],\n",
            "         [-1.2866, -1.1378,  0.4568, -1.2866, -1.1378,  0.4568]]])\n",
            "\n",
            "张量最大值: max (min和max用法相同)\n",
            "x=tensor([[15, 18,  0, 12, 12],\n",
            "        [21, 20, 12, 20, 14],\n",
            "        [13, 12, 12,  9,  0],\n",
            "        [15, 13,  2,  2, 14],\n",
            "        [22, 14, 10, 11, 21]])\n",
            "x.shape = torch.Size([5, 5])\n",
            "max = 22\n",
            "列最大值的行索引: x.max(dim=0) = torch.return_types.max(\n",
            "values=tensor([22, 20, 12, 20, 21]),\n",
            "indices=tensor([4, 1, 1, 1, 4]))\n",
            "行最大值的列索引: x.max(dim=1) = torch.return_types.max(\n",
            "values=tensor([18, 21, 13, 15, 22]),\n",
            "indices=tensor([1, 0, 0, 0, 0]))\n",
            "\n",
            "置换张量对象的维数\n",
            "x=tensor([[[-0.1584, -0.6084,  0.1992,  0.8706],\n",
            "         [-2.1494, -1.8966, -0.0714,  0.3540],\n",
            "         [-0.0214, -0.1590,  0.7075,  0.2102]],\n",
            "\n",
            "        [[-0.2428,  0.5707, -0.3289, -1.0667],\n",
            "         [ 1.9179, -0.3527,  0.8510,  2.5254],\n",
            "         [ 0.1647,  0.9423, -1.6644,  0.5605]]])\n",
            "x.shape = torch.Size([2, 3, 4])\n",
            "z=tensor([[[-0.1584, -2.1494, -0.0214],\n",
            "         [-0.2428,  1.9179,  0.1647]],\n",
            "\n",
            "        [[-0.6084, -1.8966, -0.1590],\n",
            "         [ 0.5707, -0.3527,  0.9423]],\n",
            "\n",
            "        [[ 0.1992, -0.0714,  0.7075],\n",
            "         [-0.3289,  0.8510, -1.6644]],\n",
            "\n",
            "        [[ 0.8706,  0.3540,  0.2102],\n",
            "         [-1.0667,  2.5254,  0.5605]]])\n",
            "z.shape = torch.Size([4, 2, 3])\n",
            "\n"
          ]
        }
      ]
    },
    {
      "cell_type": "markdown",
      "source": [
        "## 3.自动梯度\n",
        "定义计算输出方式\n",
        "\n",
        "$out = \\sum_{i=1}^{4}x_i^2$\n",
        "\n",
        "这个函数的梯度是$2x$\n",
        "\n",
        "$ x = [ \\\\\n",
        "  [2, -1] \\\\\n",
        "  [1, 1] \\\\\n",
        "] $\n",
        "\n",
        "则梯度是\n",
        "\n",
        "$ x = [ \\\\\n",
        "  [4, -2] \\\\\n",
        "  [2, 2] \\\\\n",
        "] $\n",
        "\n",
        "使用pytorch内置函数来验证，可以通过某个值调用backward()方法计算该值的梯度\n"
      ],
      "metadata": {
        "id": "fBbxrbzJLqrY"
      }
    },
    {
      "cell_type": "code",
      "source": [
        "import torch\n",
        "x = torch.tensor([\n",
        "    [2., -1.],\n",
        "    [1., 1.]\n",
        "], requires_grad=True)\n",
        "print(\"自动计算梯度：requires_grad=True\")\n",
        "out = x.pow(2).sum()\n",
        "out.backward()\n",
        "print(f'x梯度: {x.grad}')"
      ],
      "metadata": {
        "colab": {
          "base_uri": "https://localhost:8080/"
        },
        "id": "OqUJLVbyLskD",
        "outputId": "00c02319-1e6a-4b76-b796-ac85548cec20"
      },
      "execution_count": null,
      "outputs": [
        {
          "output_type": "stream",
          "name": "stdout",
          "text": [
            "自动计算梯度：requires_grad=True\n",
            "x梯度: tensor([[ 4., -2.],\n",
            "        [ 2.,  2.]])\n"
          ]
        }
      ]
    },
    {
      "cell_type": "markdown",
      "source": [
        "## 重新实现rule chain\n"
      ],
      "metadata": {
        "id": "VF5d80bpgqKz"
      }
    },
    {
      "cell_type": "code",
      "source": [
        "import numpy as np\n",
        "import torch\n",
        "from copy import deepcopy\n",
        "\n",
        "def feed_forward(inputs, outputs, weights):\n",
        "  # inputs: (n, 2)\n",
        "  # weights[0]: (2, 3)\n",
        "  # pre_hidden: (n, 3)\n",
        "  pre_hidden = torch.matmul(inputs, weights[0]) + weights[1]\n",
        "\n",
        "  # s激活\n",
        "  # hiden: : (n, 3)\n",
        "  hidden = 1/(1 + torch.exp(-pre_hidden))\n",
        "\n",
        "  # hiden: : (n, 3)\n",
        "  # weights[2]: (3,1)\n",
        "  # weights[3]: (1)\n",
        "  # pre_out: (n, 1)\n",
        "  pre_out = torch.matmul(hidden, weights[2]) + weights[3]\n",
        "\n",
        "  # mse\n",
        "  mse = torch.mean(torch.square(pre_out - outputs))\n",
        "\n",
        "  return mse\n",
        "\n",
        "x = np.array([ [1., -1.] ])\n",
        "y = np.array([ [0] ])\n",
        "x, y = [torch.tensor(i).float() for i in [x, y]]\n",
        "\n",
        "W = [\n",
        "    # 全连接层2*3权重矩阵\n",
        "    np.array([\n",
        "        [-0.0053, 0.3793],\n",
        "        [-0.5820, 0.5204],\n",
        "        [-0.2723, 0.1896]\n",
        "      ], dtype=np.float32).T,\n",
        "    # 与隐藏层每个节点相关联的偏置项\n",
        "    np.array([-0.0140, 0.5607, -0.0628], dtype=np.float32),\n",
        "    np.array([[0.1528, -0.1745, -0.1136]], dtype=np.float32).T,\n",
        "    np.array([-0.5516], dtype=np.float32)\n",
        "]\n",
        "W = [torch.tensor(i, requires_grad=True) for i in W]\n",
        "\n",
        "print(f'===> x = {x}')\n",
        "print(f'===> y = {y}')\n",
        "loss = feed_forward(x, y, W)\n",
        "print(f'loss = {loss}')\n",
        "loss.backward()\n",
        "print(f'w grad = {[w.grad for w in W]}')\n",
        "\n",
        "updated_W = [w-w.grad for w in W]\n",
        "print(f'updated_W = {updated_W}')"
      ],
      "metadata": {
        "colab": {
          "base_uri": "https://localhost:8080/"
        },
        "id": "xwZRAQyNgyL9",
        "outputId": "bd209b2c-b7aa-498e-b0de-4cb35d1d1230"
      },
      "execution_count": null,
      "outputs": [
        {
          "output_type": "stream",
          "name": "stdout",
          "text": [
            "===> x = tensor([[ 1., -1.]])\n",
            "===> y = tensor([[0.]])\n",
            "loss = 0.3559781312942505\n",
            "w grad = [tensor([[-0.0438,  0.0484,  0.0317],\n",
            "        [ 0.0438, -0.0484, -0.0317]]), tensor([-0.0438,  0.0484,  0.0317]), tensor([[-0.4793],\n",
            "        [-0.4389],\n",
            "        [-0.4436]]), tensor([-1.1933])]\n",
            "updated_W = [tensor([[ 0.0385, -0.6304, -0.3040],\n",
            "        [ 0.3355,  0.5688,  0.2213]], grad_fn=<SubBackward0>), tensor([ 0.0298,  0.5123, -0.0945], grad_fn=<SubBackward0>), tensor([[0.6321],\n",
            "        [0.2644],\n",
            "        [0.3300]], grad_fn=<SubBackward0>), tensor([0.6417], grad_fn=<SubBackward0>)]\n"
          ]
        }
      ]
    },
    {
      "cell_type": "markdown",
      "source": [
        "## 对比pytorch tensor和numpy ndarray"
      ],
      "metadata": {
        "id": "OuMl8hLdoAzj"
      }
    },
    {
      "cell_type": "code",
      "source": [
        "import torch\n",
        "import numpy as np\n",
        "\n",
        "x = torch.rand(1, 6400)\n",
        "y = torch.rand(6400, 5000)\n",
        "\n",
        "device = 'cuda' if torch.cuda.is_available() else 'cpu'\n",
        "print(device)\n",
        "\n",
        "print(\"matmul time cost:\")\n",
        "x, y = x.to(device), y.to(device)\n",
        "%timeit z=(x@y)\n",
        "\n",
        "x, y = x.cpu(), y.cpu()\n",
        "print(\"cpu matmul time cost:\")\n",
        "%timeit z=(x@y)\n",
        "\n",
        "x, y = x.numpy(), y.numpy()\n",
        "print(\"cpu matmul time cost:\")\n",
        "%timeit np.matmul(x,y)\n"
      ],
      "metadata": {
        "colab": {
          "base_uri": "https://localhost:8080/"
        },
        "id": "Rb8lzPt_oGa_",
        "outputId": "16dc0293-ce96-4a57-a1a6-f7f92c1e2d45"
      },
      "execution_count": null,
      "outputs": [
        {
          "output_type": "stream",
          "name": "stdout",
          "text": [
            "cuda\n",
            "matmul time cost:\n",
            "The slowest run took 5.03 times longer than the fastest. This could mean that an intermediate result is being cached.\n",
            "49.5 µs ± 37.6 µs per loop (mean ± std. dev. of 7 runs, 1 loop each)\n",
            "cpu matmul time cost:\n",
            "9.18 ms ± 82.5 µs per loop (mean ± std. dev. of 7 runs, 100 loops each)\n",
            "cpu matmul time cost:\n",
            "10.5 ms ± 2.04 ms per loop (mean ± std. dev. of 7 runs, 100 loops each)\n"
          ]
        }
      ]
    },
    {
      "cell_type": "markdown",
      "source": [
        "## 使用pytorch构建神经网络\n",
        "\n",
        "*   隐藏层的数量\n",
        "*   隐藏层中的单元数量\n",
        "*   各个层中的激活函数\n",
        "*   实现最优化的损失函数\n",
        "*   与神经网络有关的学习率\n",
        "*   用于构建神经网络的数据的批大小\n",
        "*   向前传播和反向传播的轮数\n",
        "\n",
        "这部分我们将在小数据集上使用pytorch实现所有这些功能\n",
        "\n",
        "计算公式\n",
        "\n",
        "$y = xW^T + b$\n",
        "\n",
        "$W^T$是W的转置矩阵，所以，\n",
        "\n",
        "1. self.input_to_hidden_layer = nn.Linear(2, 8)  \n",
        "对应权重矩阵W1: 实际是8 * 2, $W^T$ 是 2 * 8, 偏置 1*8 \\\\\n",
        "输入数据:(n*2) * wt:(2*8) ===> (n * 8)\n",
        "\n",
        "2. self.hidden_layer_activation = nn.ReLU()     # (4*8) => (4*8) \\\\\n",
        "pre_hidden: (n * 8) + 偏置 (1 * 8) = hidden: (n * 8) \\\\\n",
        "\n",
        "3. self.hidden_to_output_layer = nn.Linear(8, 1) \\\\\n",
        "同上权重矩阵W2: (1*8)\n",
        "preout = hidden * hidden_to_output_layer = (n*8) * (8*1) = (n,1)\n",
        "偏置(1, 1)\n",
        "\n",
        "\n",
        "\n",
        "\n"
      ],
      "metadata": {
        "id": "ngm6AQz9qlDV"
      }
    },
    {
      "cell_type": "code",
      "source": [
        "!pip install torchinfo\n",
        "!pip install torch_summary"
      ],
      "metadata": {
        "colab": {
          "base_uri": "https://localhost:8080/"
        },
        "id": "yB-Lgxnbx6Ao",
        "outputId": "529a7133-aebf-468d-a709-a2eb7238b807"
      },
      "execution_count": null,
      "outputs": [
        {
          "output_type": "stream",
          "name": "stdout",
          "text": [
            "Requirement already satisfied: torchinfo in /usr/local/lib/python3.11/dist-packages (1.8.0)\n",
            "Collecting torch_summary\n",
            "  Downloading torch_summary-1.4.5-py3-none-any.whl.metadata (18 kB)\n",
            "Downloading torch_summary-1.4.5-py3-none-any.whl (16 kB)\n",
            "Installing collected packages: torch_summary\n",
            "Successfully installed torch_summary-1.4.5\n"
          ]
        }
      ]
    },
    {
      "cell_type": "code",
      "source": [
        "import torch\n",
        "import torch.nn as nn\n",
        "from torchinfo import summary\n",
        "from torch.optim import SGD\n",
        "%matplotlib inline\n",
        "import matplotlib.pyplot as plt\n",
        "\n",
        "# 定义神经网络\n",
        "class MyNeuralNet(nn.Module):\n",
        "  def __init__(self):\n",
        "    super().__init__()\n",
        "    self.input_to_hidden_layer = nn.Linear(2, 8)  # input (4,2) * (2,8)==> (4*8)\n",
        "    self.hidden_layer_activation = nn.ReLU()      # (4*8) => (4*8)\n",
        "    self.hidden_to_output_layer = nn.Linear(8, 1) # (4*8) * (8,1) ===> (4,1)\n",
        "  def forward(self, x):\n",
        "    x = self.input_to_hidden_layer(x)\n",
        "    x = self.hidden_layer_activation(x)\n",
        "    x = self.hidden_to_output_layer(x)\n",
        "    return x\n",
        "\n",
        "# 定义输入输出值: 列表的列表\n",
        "x = [[1,2], [3,4], [5,6], [7,8]]\n",
        "y = [[3], [7], [11], [15]]\n",
        "\n",
        "# 转换为张量\n",
        "X = torch.tensor(x).float()\n",
        "Y = torch.tensor(y).float()\n",
        "X = X.to(device)\n",
        "Y = Y.to(device)\n",
        "\n",
        "device = 'cuda' if torch.cuda.is_available() else 'cpu'\n",
        "print(device)\n",
        "\n",
        "\n",
        "# 模型\n",
        "mynet = MyNeuralNet().to(device)\n",
        "# 损失函数: 还可以用CrossEntropyLoss(多项分类), BCELoss(二元分类的二元交叉熵分类)\n",
        "loss_func = nn.MSELoss()\n",
        "\n",
        "# 输出模型权重\n",
        "i = 1\n",
        "for par in mynet.parameters():\n",
        "  print(i, par)\n",
        "  i+=1\n",
        "\n",
        "_Y = mynet(X)\n",
        "loss_value = loss_func(_Y, Y)\n",
        "print(f'loss value: {loss_value}')\n",
        "\n",
        "# 优化方法\n",
        "opt = SGD(mynet.parameters(), lr=0.001)\n",
        "\n",
        "loss_history = []\n",
        "for _ in range(50):\n",
        "  opt.zero_grad()\n",
        "  loss_value = loss_func(mynet(X), Y)\n",
        "  loss_value.backward()\n",
        "  opt.step()\n",
        "  loss_history.append(loss_value.item())\n",
        "print(f'loss_history: {loss_history}' )\n",
        "\n",
        "plt.plot(loss_history)\n",
        "plt.title('loss history  over increasing opechs')\n",
        "plt.xlabel('epochs')\n",
        "plt.ylabel('loss value')"
      ],
      "metadata": {
        "colab": {
          "base_uri": "https://localhost:8080/",
          "height": 857
        },
        "id": "6Q5B-mq7qlUT",
        "outputId": "1d3fcbc6-7cd6-42e7-8b25-bba94801fa81"
      },
      "execution_count": null,
      "outputs": [
        {
          "output_type": "stream",
          "name": "stdout",
          "text": [
            "cuda\n",
            "1 Parameter containing:\n",
            "tensor([[ 0.4152,  0.5653],\n",
            "        [ 0.1511,  0.2629],\n",
            "        [ 0.4874,  0.4620],\n",
            "        [-0.0927, -0.1268],\n",
            "        [ 0.2390, -0.6563],\n",
            "        [ 0.4830, -0.4607],\n",
            "        [ 0.6685, -0.0309],\n",
            "        [-0.0200,  0.3654]], device='cuda:0', requires_grad=True)\n",
            "2 Parameter containing:\n",
            "tensor([ 0.3249, -0.5095, -0.1585, -0.2913,  0.1237, -0.6818,  0.2664,  0.5440],\n",
            "       device='cuda:0', requires_grad=True)\n",
            "3 Parameter containing:\n",
            "tensor([[ 0.1461,  0.2766, -0.2687,  0.1140,  0.1702,  0.0902,  0.2132,  0.1408]],\n",
            "       device='cuda:0', requires_grad=True)\n",
            "4 Parameter containing:\n",
            "tensor([-0.2978], device='cuda:0', requires_grad=True)\n",
            "loss value: 86.82887268066406\n",
            "loss_history: [86.82887268066406, 60.81969451904297, 41.32068634033203, 26.76836585998535, 16.386613845825195, 9.456574440002441, 5.160464286804199, 2.6814332008361816, 1.3386722803115845, 0.6482784748077393, 0.3074091672897339, 0.14412358403205872, 0.06759151071310043, 0.03226752206683159, 0.01613415777683258, 0.008817393332719803, 0.005513152573257685, 0.004023496061563492, 0.00335132097825408, 0.0030460734851658344, 0.0029053862672299147, 0.0028382763266563416, 0.002804132178425789, 0.002784735755994916, 0.0027719265781342983, 0.0027620510663837194, 0.0027535385452210903, 0.0027456278912723064, 0.0027379742823541164, 0.002730471547693014, 0.0027230456471443176, 0.0027156926225870848, 0.002708299085497856, 0.002700963756069541, 0.0026936682406812906, 0.002686366904526949, 0.002679086523130536, 0.0026718475855886936, 0.002664662431925535, 0.002657477045431733, 0.002650252543389797, 0.0026430704165250063, 0.0026358801405876875, 0.002628824906423688, 0.0026217137929052114, 0.00261458451859653, 0.0026074880734086037, 0.0026004535611718893, 0.0025934376753866673, 0.002586430637165904]\n"
          ]
        },
        {
          "output_type": "execute_result",
          "data": {
            "text/plain": [
              "Text(0, 0.5, 'loss value')"
            ]
          },
          "metadata": {},
          "execution_count": 35
        },
        {
          "output_type": "display_data",
          "data": {
            "text/plain": [
              "<Figure size 640x480 with 1 Axes>"
            ],
            "image/png": "[encoded data removed]"
          },
          "metadata": {}
        }
      ]
    },
    {
      "cell_type": "markdown",
      "source": [
        "## 数据集，数据加载起，批大小"
      ],
      "metadata": {
        "id": "88kXGMpL9eJ1"
      }
    },
    {
      "cell_type": "code",
      "source": [
        "from torch.utils.data import Dataset, DataLoader\n",
        "import torch\n",
        "import torch.nn as nn\n",
        "from torch.optim import SGD\n",
        "import time\n",
        "%matplotlib inline\n",
        "import matplotlib.pyplot as plt\n",
        "\n",
        "device = 'cuda' if torch.cuda.is_available() else 'cpu'\n",
        "print(device)\n",
        "\n",
        "# 倒入数据，转为浮点，注册到设备\n",
        "x = [ [1,2], [3,4], [5,6], [7,8] ]\n",
        "y = [ [3], [7], [11], [15] ]\n",
        "X = torch.tensor(x).float()\n",
        "Y = torch.tensor(y).float()\n",
        "X = X.to(device)\n",
        "Y = Y.to(device)\n",
        "\n",
        "# 数据集\n",
        "class MyDataset(Dataset):\n",
        "  def __init__(self, x, y):\n",
        "    self.x = x.clone().detach()\n",
        "    self.y = y.clone().detach()\n",
        "\n",
        "  def __len__(self):\n",
        "    return len(self.x)\n",
        "\n",
        "  def __getitem__(self, ix):\n",
        "    return self.x[ix], self.y[ix]\n",
        "\n",
        "\n",
        "class MyNeuralNet(nn.Module):\n",
        "  def __init__(self):\n",
        "    super().__init__()\n",
        "    # 输入维度m*2, 所以wt矩阵必须是2*n1,wt必须是 (n * 2)\n",
        "    # 输出 (m*n1), 即 m*8\n",
        "    self.input_to_hidden_layer = nn.Linear(2, 8)\n",
        "    # activation\n",
        "    self.hidden_layer_activation = nn.ReLU()\n",
        "    # 输入 m*8, 所以wt矩阵必须是8*1, wt必须是(1, 8)\n",
        "    # 输出: m * 1\n",
        "    self.hidden_to_output_layer = nn.Linear(8, 1)\n",
        "  def forward(self, x):\n",
        "    x = self.input_to_hidden_layer(x)\n",
        "    x = self.hidden_layer_activation(x)\n",
        "    x = self.hidden_to_output_layer(x)\n",
        "    return x\n",
        "\n",
        "# 创建数据加载起\n",
        "ds = MyDataset(X, Y)\n",
        "dl = DataLoader(ds, batch_size=2, shuffle=True)\n",
        "\n",
        "for x, y in dl:\n",
        "  print(\"-----\")\n",
        "  print(x, y)\n",
        "\n",
        "\n",
        "mynet = MyNeuralNet().to(device)\n",
        "loss_func = nn.MSELoss()\n",
        "opt = SGD(mynet.parameters(), lr=0.001)\n",
        "\n",
        "loss_history = []\n",
        "start = time.time()\n",
        "for _ in range(50):\n",
        "  for data in dl:\n",
        "    x, y = data\n",
        "    opt.zero_grad()\n",
        "    loss_value = loss_func(mynet(x), y)\n",
        "    loss_value.backward()\n",
        "    opt.step()\n",
        "    loss_history.append(loss_value.item())\n",
        "end = time.time()\n",
        "print(end - start)\n",
        "\n",
        "\n",
        "plt.plot(loss_history)\n",
        "plt.title('loss history  over increasing opechs')\n",
        "plt.xlabel('epochs')\n",
        "plt.ylabel('loss value')\n",
        "\n",
        "# 测试模型\n",
        "val_xs = [ [10,11], [100,110] ]\n",
        "for val_x in val_xs:\n",
        "  val_x = torch.tensor(val_x).float().to(device)\n",
        "  print(f'{val_x} ==> {mynet(val_x)}')\n",
        "\n",
        "\n"
      ],
      "metadata": {
        "colab": {
          "base_uri": "https://localhost:8080/",
          "height": 680
        },
        "id": "lPS2rESz6oYB",
        "outputId": "be3ea417-12b2-4845-9094-7e0854566f52"
      },
      "execution_count": null,
      "outputs": [
        {
          "output_type": "stream",
          "name": "stdout",
          "text": [
            "cuda\n",
            "-----\n",
            "tensor([[1., 2.],\n",
            "        [3., 4.]], device='cuda:0') tensor([[3.],\n",
            "        [7.]], device='cuda:0')\n",
            "-----\n",
            "tensor([[7., 8.],\n",
            "        [5., 6.]], device='cuda:0') tensor([[15.],\n",
            "        [11.]], device='cuda:0')\n",
            "0.11603617668151855\n",
            "tensor([10., 11.], device='cuda:0') ==> tensor([20.7439], device='cuda:0', grad_fn=<ViewBackward0>)\n",
            "tensor([100., 110.], device='cuda:0') ==> tensor([202.0302], device='cuda:0', grad_fn=<ViewBackward0>)\n"
          ]
        },
        {
          "output_type": "display_data",
          "data": {
            "text/plain": [
              "<Figure size 640x480 with 1 Axes>"
            ],
            "image/png": "[encoded data removed]"
          },
          "metadata": {}
        }
      ]
    },
    {
      "cell_type": "markdown",
      "source": [
        "## 使用Sequential构建神经网络"
      ],
      "metadata": {
        "id": "YvPtX4dVIsF9"
      }
    },
    {
      "cell_type": "code",
      "source": [
        "from torch.utils.data import Dataset, DataLoader\n",
        "import torch\n",
        "import torch.nn as nn\n",
        "from torch.optim import SGD\n",
        "import time\n",
        "%matplotlib inline\n",
        "import matplotlib.pyplot as plt\n",
        "from torchsummary import summary\n",
        "from torch.optim import SGD\n",
        "import time\n",
        "\n",
        "device = 'cuda' if torch.cuda.is_available() else 'cpu'\n",
        "print(device)\n",
        "\n",
        "# 导入数据，转为浮点，注册到设备\n",
        "x = [ [1,2], [3,4], [5,6], [7,8] ]\n",
        "y = [ [3], [7], [11], [15] ]\n",
        "X = torch.tensor(x).float()\n",
        "Y = torch.tensor(y).float()\n",
        "X = X.to(device)\n",
        "Y = Y.to(device)\n",
        "\n",
        "# 数据集\n",
        "class MyDataset(Dataset):\n",
        "  def __init__(self, x, y):\n",
        "    self.x = x.clone().detach()\n",
        "    self.y = y.clone().detach()\n",
        "  def __len__(self):\n",
        "    return len(self.x)\n",
        "  def __getitem__(self, ix):\n",
        "    return self.x[ix], self.y[ix]\n",
        "\n",
        "# 创建数据加载起\n",
        "ds = MyDataset(X, Y)\n",
        "dl = DataLoader(ds, batch_size=2, shuffle=True)\n",
        "\n",
        "\n",
        "# 使用sequential构建网络\n",
        "model = nn.Sequential(\n",
        "    nn.Linear(2, 8),\n",
        "    nn.ReLU(),\n",
        "    nn.Linear(8, 1)\n",
        ").to(device)\n",
        "\n",
        "summary(model, torch.zeros(1,2))\n",
        "\n",
        "loss_func = nn.MSELoss()\n",
        "opt = SGD(model.parameters(), lr=0.001)\n",
        "\n",
        "loss_history = []\n",
        "start =time.time()\n",
        "for _ in range(50):\n",
        "  for ix, iy in dl:\n",
        "    opt.zero_grad()\n",
        "    loss_value = loss_func(model(ix), iy)\n",
        "    loss_value.backward()\n",
        "    opt.step()\n",
        "    loss_history.append(loss_value.item())\n",
        "end = time.time()\n",
        "print(end - start)\n",
        "\n",
        "plt.plot(loss_history)\n",
        "plt.title('loss history  over increasing opechs')\n",
        "plt.xlabel('epochs')\n",
        "plt.ylabel('loss value')\n",
        "\n",
        "\n",
        "# 保存模型\n",
        "torch.save(model.to(device).state_dict(), 'mymodel.pth')\n",
        "\n",
        "# 加载模型\n",
        "model = model = nn.Sequential(\n",
        "    nn.Linear(2, 8),\n",
        "    nn.ReLU(),\n",
        "    nn.Linear(8, 1)\n",
        ").to(device)\n",
        "state_dict = torch.load('mymodel.pth')\n",
        "model.load_state_dict(state_dict)\n",
        "model.to(device)\n",
        "\n",
        "# 测试模型\n",
        "val_xs = [ [8,9], [10,11], [100,110] ]\n",
        "print(f'{val_xs} ==> {model(torch.tensor(val_xs).float().to(device))}')\n"
      ],
      "metadata": {
        "colab": {
          "base_uri": "https://localhost:8080/",
          "height": 854
        },
        "id": "Nw7AV09VIr0V",
        "outputId": "7f026b27-e81b-4666-ca15-a543848de61f"
      },
      "execution_count": null,
      "outputs": [
        {
          "output_type": "stream",
          "name": "stdout",
          "text": [
            "cuda\n",
            "==========================================================================================\n",
            "Layer (type:depth-idx)                   Output Shape              Param #\n",
            "==========================================================================================\n",
            "├─Linear: 1-1                            [-1, 8]                   24\n",
            "├─ReLU: 1-2                              [-1, 8]                   --\n",
            "├─Linear: 1-3                            [-1, 1]                   9\n",
            "==========================================================================================\n",
            "Total params: 33\n",
            "Trainable params: 33\n",
            "Non-trainable params: 0\n",
            "Total mult-adds (M): 0.00\n",
            "==========================================================================================\n",
            "Input size (MB): 0.00\n",
            "Forward/backward pass size (MB): 0.00\n",
            "Params size (MB): 0.00\n",
            "Estimated Total Size (MB): 0.00\n",
            "==========================================================================================\n",
            "0.12803101539611816\n",
            "[[8, 9], [10, 11], [100, 110]] ==> tensor([[ 16.3501],\n",
            "        [ 19.8974],\n",
            "        [188.6402]], device='cuda:0', grad_fn=<AddmmBackward0>)\n"
          ]
        },
        {
          "output_type": "display_data",
          "data": {
            "text/plain": [
              "<Figure size 640x480 with 1 Axes>"
            ],
            "image/png": "[encoded data removed]"
          },
          "metadata": {}
        }
      ]
    }
  ]
}